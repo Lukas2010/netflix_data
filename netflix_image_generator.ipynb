{
  "nbformat": 4,
  "nbformat_minor": 0,
  "metadata": {
    "colab": {
      "name": "Untitled0.ipynb",
      "provenance": [],
      "collapsed_sections": [],
      "authorship_tag": "ABX9TyNxpM3dhdSNiwKn099sdUYP",
      "include_colab_link": true
    },
    "kernelspec": {
      "name": "python3",
      "display_name": "Python 3"
    },
    "language_info": {
      "name": "python"
    },
    "accelerator": "GPU",
    "widgets": {
      "application/vnd.jupyter.widget-state+json": {
        "c4fca7966c9b4e2eb2ac18c0f3103b4f": {
          "model_module": "@jupyter-widgets/controls",
          "model_name": "DropdownModel",
          "model_module_version": "1.5.0",
          "state": {
            "_options_labels": [
              "The Two Popes",
              "Creed",
              "Once Upon a Time in Hollywood",
              "How to Become a Tyrant",
              "Minority Report",
              "Star Trek: Voyager: Season 1: Caretaker: Parts 1 & 2",
              "The Big Short",
              "Black Holes | The Edge of All We Know",
              "Katla",
              "Argo",
              "Snowden",
              "The Wolf's Call",
              "Last Breath",
              "Ex Machina",
              "The World's Biggest Art Heist",
              "Blue Jay",
              "Der Mandant",
              "The Serpent",
              "El Camino: A Breaking Bad Movie",
              "Matilda",
              "Seaspiracy",
              "Enrico Piaggio - An Italian Dream",
              "Straight Outta Compton",
              "Divided Nation",
              "Knock Down The House",
              "Friends",
              "Tribes of Europa",
              "Hot Fuzz",
              "The Life Ahead",
              "Season 8",
              "Challenger",
              "Manhunt",
              "Unabomber - In His Own Words",
              "News of the World",
              "The Dig",
              "Kingsman: The Golden Circle",
              "A Very Secret Service",
              "I, Tonya",
              "Beltracchi: The Art of Forgery",
              "Kung Fu Panda",
              "Season 7",
              "Lupin",
              "Notting Hill",
              "Fauda",
              "Discovery",
              "Moonrise Kingdom",
              "Black Swan",
              "The Midnight Sky",
              "The Social Dilemma",
              "Inception",
              "The Drop",
              "The Queen's Gambit",
              "MANK",
              "Luther",
              "Snowpiercer",
              "The Edge of Seventeen",
              "The Thin Red Line",
              "Fences",
              "The Trial of the Chicago 7",
              "Away",
              "Nowhere in Africa",
              "Hugo",
              "Bridge of Spies",
              "Space Force",
              "Hacksaw Ridge",
              "Seven Seconds",
              "Lenox Hill",
              "The Umbrella Academy",
              "How to Sell Drugs Online (Fast)"
            ],
            "_view_name": "DropdownView",
            "style": "IPY_MODEL_ddeee2ae884741d589a7bb05672306ba",
            "_dom_classes": [],
            "description": "",
            "_model_name": "DropdownModel",
            "index": 43,
            "_view_module": "@jupyter-widgets/controls",
            "_model_module_version": "1.5.0",
            "_view_count": null,
            "disabled": false,
            "_view_module_version": "1.5.0",
            "description_tooltip": null,
            "_model_module": "@jupyter-widgets/controls",
            "layout": "IPY_MODEL_8ef23b9d2a6b44d4877313b82d1372f3"
          }
        },
        "ddeee2ae884741d589a7bb05672306ba": {
          "model_module": "@jupyter-widgets/controls",
          "model_name": "DescriptionStyleModel",
          "model_module_version": "1.5.0",
          "state": {
            "_view_name": "StyleView",
            "_model_name": "DescriptionStyleModel",
            "description_width": "",
            "_view_module": "@jupyter-widgets/base",
            "_model_module_version": "1.5.0",
            "_view_count": null,
            "_view_module_version": "1.2.0",
            "_model_module": "@jupyter-widgets/controls"
          }
        },
        "8ef23b9d2a6b44d4877313b82d1372f3": {
          "model_module": "@jupyter-widgets/base",
          "model_name": "LayoutModel",
          "model_module_version": "1.2.0",
          "state": {
            "_view_name": "LayoutView",
            "grid_template_rows": null,
            "right": null,
            "justify_content": null,
            "_view_module": "@jupyter-widgets/base",
            "overflow": null,
            "_model_module_version": "1.2.0",
            "_view_count": null,
            "flex_flow": null,
            "width": null,
            "min_width": null,
            "border": null,
            "align_items": null,
            "bottom": null,
            "_model_module": "@jupyter-widgets/base",
            "top": null,
            "grid_column": null,
            "overflow_y": null,
            "overflow_x": null,
            "grid_auto_flow": null,
            "grid_area": null,
            "grid_template_columns": null,
            "flex": null,
            "_model_name": "LayoutModel",
            "justify_items": null,
            "grid_row": null,
            "max_height": null,
            "align_content": null,
            "visibility": null,
            "align_self": null,
            "height": null,
            "min_height": null,
            "padding": null,
            "grid_auto_rows": null,
            "grid_gap": null,
            "max_width": null,
            "order": null,
            "_view_module_version": "1.2.0",
            "grid_template_areas": null,
            "object_position": null,
            "object_fit": null,
            "grid_auto_columns": null,
            "margin": null,
            "display": null,
            "left": null
          }
        }
      }
    }
  },
  "cells": [
    {
      "cell_type": "markdown",
      "metadata": {
        "id": "view-in-github",
        "colab_type": "text"
      },
      "source": [
        "<a href=\"https://colab.research.google.com/github/Lukas2010/netflix_data/blob/main/netflix_image_generator.ipynb\" target=\"_parent\"><img src=\"https://colab.research.google.com/assets/colab-badge.svg\" alt=\"Open In Colab\"/></a>"
      ]
    },
    {
      "cell_type": "markdown",
      "metadata": {
        "id": "fHas7w48GGpn"
      },
      "source": [
        "This is the start of our Colab workbook on image generation using a pythorch backend.\n",
        "\n",
        "First get the specifics of the allocated hardware:"
      ]
    },
    {
      "cell_type": "code",
      "metadata": {
        "colab": {
          "base_uri": "https://localhost:8080/"
        },
        "id": "X6pbQqN2Gd_1",
        "outputId": "1dbe92bf-5503-4d37-f36e-0d5d0cb3f45a"
      },
      "source": [
        "#@markdown What GPU am I using?\n",
        "\n",
        "#@markdown V100 > P100 > everything else\n",
        "\n",
        "!nvidia-smi --query-gpu=gpu_name,gpu_bus_id,vbios_version --format=csv\n",
        "gpu_name = !nvidia-smi --query-gpu=gpu_name, --format=csv"
      ],
      "execution_count": 1,
      "outputs": [
        {
          "output_type": "stream",
          "name": "stdout",
          "text": [
            "name, pci.bus_id, vbios_version\n",
            "Tesla K80, 00000000:00:04.0, 80.21.25.00.02\n"
          ]
        }
      ]
    },
    {
      "cell_type": "markdown",
      "metadata": {
        "id": "NHRWJ2syG0n-"
      },
      "source": [
        "Connect google Drive:"
      ]
    },
    {
      "cell_type": "code",
      "metadata": {
        "colab": {
          "base_uri": "https://localhost:8080/"
        },
        "id": "E3S7rEFdG2rs",
        "outputId": "93e264bd-e159-4220-dc60-1b7a4e4d4b55"
      },
      "source": [
        "#@title Connect Google Drive (recommended)\n",
        "import os\n",
        "abs_root_path = \"/content\"\n",
        "\n",
        "from google.colab import drive\n",
        "drive.mount('/content/drive')\n",
        "\n",
        "def ensureProperRootPath():\n",
        "    if len(abs_root_path) > 0:\n",
        "        os.chdir(abs_root_path) # Changes directory to absolute root path\n",
        "        print(\"Root path check: \")\n",
        "        !pwd\n",
        "\n",
        "ensureProperRootPath()"
      ],
      "execution_count": 2,
      "outputs": [
        {
          "output_type": "stream",
          "name": "stdout",
          "text": [
            "Mounted at /content/drive\n",
            "Root path check: \n",
            "/content\n"
          ]
        }
      ]
    },
    {
      "cell_type": "markdown",
      "metadata": {
        "id": "dVGFf1JUHbLU"
      },
      "source": [
        "Next you can choose to create a folder in your directoy in you project name folder. "
      ]
    },
    {
      "cell_type": "code",
      "metadata": {
        "colab": {
          "base_uri": "https://localhost:8080/"
        },
        "id": "GStDZOKkHWxJ",
        "outputId": "84595254-52bc-4de5-8b48-d713410ab6a9"
      },
      "source": [
        "#@title Make a new folder & set root path to that folder (recommended)\n",
        "#@markdown Saves a step if you don't have a folder in your Google Drive for this. Makes one, sets the root_path to that new folder. You can name it whatever you'd like:\n",
        "\n",
        "folder_name = \"AI_ART\" #@param {type: \"string\"}\n",
        "abs_root_path = \"/content\"\n",
        "if len(folder_name) > 0:\n",
        "    path_tmp = abs_root_path + \"/drive/MyDrive/\" + folder_name\n",
        "    if not os.path.exists(path_tmp):\n",
        "        os.mkdir(path_tmp)\n",
        "    abs_root_path = path_tmp\n",
        "\n",
        "print(\"Created folder & set root path to: \" + abs_root_path)\n",
        "\n",
        "#@markdown Make & assign path to a project subfolder (optional)\n",
        "\n",
        "project_name = \"ALL_DATASETS_TEST\" #@param {type: \"string\"}\n",
        "if len(project_name) > 0:\n",
        "      path_tmp = abs_root_path + \"/\" + project_name\n",
        "      if not os.path.exists(path_tmp):\n",
        "          os.mkdir(path_tmp)\n",
        "      abs_root_path = path_tmp\n",
        "print(\"Created project subfolder & set root path to: \" + abs_root_path)\n",
        "\n",
        "ensureProperRootPath()"
      ],
      "execution_count": 3,
      "outputs": [
        {
          "output_type": "stream",
          "name": "stdout",
          "text": [
            "Created folder & set root path to: /content/drive/MyDrive/AI_ART\n",
            "Created project subfolder & set root path to: /content/drive/MyDrive/AI_ART/ALL_DATASETS_TEST\n",
            "Root path check: \n",
            "/content/drive/MyDrive/AI_ART/ALL_DATASETS_TEST\n"
          ]
        }
      ]
    },
    {
      "cell_type": "markdown",
      "metadata": {
        "id": "XBHOcxyEHt0N"
      },
      "source": [
        "Install all libraries needed for this project:"
      ]
    },
    {
      "cell_type": "code",
      "metadata": {
        "colab": {
          "base_uri": "https://localhost:8080/"
        },
        "id": "_ngp8gyfH7pn",
        "outputId": "68a366e2-5c6e-4913-8c65-13abac5f9cfa"
      },
      "source": [
        "# @title Library Installation\n",
        "import os \n",
        "!nvidia-smi\n",
        "print(\"Downloading CLIP...\")\n",
        "!git clone https://github.com/openai/CLIP                 &> /dev/null\n",
        "!git clone https://github.com/crowsonkb/guided-diffusion  &> /dev/null\n",
        "!pip install -e ./CLIP                                    &> /dev/null\n",
        "print(\"Installing library for guided diffusion...\")\n",
        "!pip install -e ./guided-diffusion                        &> /dev/null\n",
        "\n",
        "print(\"Installing Python Libraries for AI\")\n",
        "!git clone https://github.com/CompVis/taming-transformers &> /dev/null\n",
        "!pip install ftfy regex tqdm omegaconf pytorch-lightning  &> /dev/null\n",
        "!pip install kornia                                       &> /dev/null\n",
        "!pip install einops                                       &> /dev/null\n",
        "print(\"Installing transformers library...\")\n",
        "!pip install transformers                                 &> /dev/null\n",
        " \n",
        "print(\"Installing libraries for managing metadata...\")\n",
        "!pip install stegano                                      &> /dev/null\n",
        "!apt install exempi                                       &> /dev/null\n",
        "!pip install python-xmp-toolkit                           &> /dev/null\n",
        "!pip install imgtag                                       &> /dev/null\n",
        "!pip install pillow==7.1.2                                &> /dev/null    \n",
        "!pip install taming-transformers                          &> /dev/null        \n",
        "                            \n",
        "\n",
        "print(\"Installing ESRGAN for image upscaling...\")\n",
        "!git clone https://github.com/xinntao/ESRGAN &> /dev/null \n",
        "\n",
        "print(\"Installing ffmpeg for creating videos...\")\n",
        "!pip install imageio-ffmpeg &> /dev/null\n",
        "\n",
        "if not os.path.exists(abs_root_path + \"/vqgan-steps\"):\n",
        "    !mkdir \"vqgan-steps\" &> /dev/null  \n",
        "    print(\"No directory for VQGAN+CLIP image output found. Made directory: ~/vqgan-steps\")\n",
        "if not os.path.exists(abs_root_path + \"/diffusion-steps\"):\n",
        "    !mkdir \"diffusion-steps\" &> /dev/null  \n",
        "    print(\"No directory for CLIP-guided diffusion image output found. Made directory: ~/diffusion-steps\")\n",
        "!pip freeze > requirements.txt\n",
        "print(\"Installation finished.\")"
      ],
      "execution_count": 4,
      "outputs": [
        {
          "output_type": "stream",
          "name": "stdout",
          "text": [
            "Fri Oct  8 13:37:58 2021       \n",
            "+-----------------------------------------------------------------------------+\n",
            "| NVIDIA-SMI 470.74       Driver Version: 460.32.03    CUDA Version: 11.2     |\n",
            "|-------------------------------+----------------------+----------------------+\n",
            "| GPU  Name        Persistence-M| Bus-Id        Disp.A | Volatile Uncorr. ECC |\n",
            "| Fan  Temp  Perf  Pwr:Usage/Cap|         Memory-Usage | GPU-Util  Compute M. |\n",
            "|                               |                      |               MIG M. |\n",
            "|===============================+======================+======================|\n",
            "|   0  Tesla K80           Off  | 00000000:00:04.0 Off |                    0 |\n",
            "| N/A   68C    P8    34W / 149W |      0MiB / 11441MiB |      0%      Default |\n",
            "|                               |                      |                  N/A |\n",
            "+-------------------------------+----------------------+----------------------+\n",
            "                                                                               \n",
            "+-----------------------------------------------------------------------------+\n",
            "| Processes:                                                                  |\n",
            "|  GPU   GI   CI        PID   Type   Process name                  GPU Memory |\n",
            "|        ID   ID                                                   Usage      |\n",
            "|=============================================================================|\n",
            "|  No running processes found                                                 |\n",
            "+-----------------------------------------------------------------------------+\n",
            "Downloading CLIP...\n",
            "Installing library for guided diffusion...\n",
            "Installing Python Libraries for AI\n",
            "Installing transformers library...\n",
            "Installing libraries for managing metadata...\n",
            "Installing ESRGAN for image upscaling...\n",
            "Installing ffmpeg for creating videos...\n",
            "No directory for VQGAN+CLIP image output found. Made directory: ~/vqgan-steps\n",
            "No directory for CLIP-guided diffusion image output found. Made directory: ~/diffusion-steps\n",
            "Installation finished.\n"
          ]
        }
      ]
    },
    {
      "cell_type": "markdown",
      "metadata": {
        "id": "ojyjFj0zMZWO"
      },
      "source": [
        "List all files in the directory:"
      ]
    },
    {
      "cell_type": "code",
      "metadata": {
        "colab": {
          "base_uri": "https://localhost:8080/"
        },
        "id": "QoPtzF9VL8GI",
        "outputId": "af4eab73-7abf-48ce-dc0f-5a6acf290ea7"
      },
      "source": [
        "os.listdir()"
      ],
      "execution_count": 10,
      "outputs": [
        {
          "output_type": "execute_result",
          "data": {
            "text/plain": [
              "['CLIP',\n",
              " 'guided-diffusion',\n",
              " 'taming-transformers',\n",
              " 'ESRGAN',\n",
              " 'vqgan-steps',\n",
              " 'diffusion-steps',\n",
              " 'requirements.txt',\n",
              " 'NetflixViewingHistory.csv']"
            ]
          },
          "metadata": {},
          "execution_count": 10
        }
      ]
    },
    {
      "cell_type": "markdown",
      "metadata": {
        "id": "ttKX8msEKVGz"
      },
      "source": [
        "Extraction of the netflix.csv dataset:"
      ]
    },
    {
      "cell_type": "code",
      "metadata": {
        "colab": {
          "base_uri": "https://localhost:8080/"
        },
        "id": "Agj0UAUzImwV",
        "outputId": "afd1e585-fadf-4ed4-fa77-281fee9162cc"
      },
      "source": [
        "import numpy as np\n",
        "import pandas as pd\n",
        "\n",
        "print(\"Import of pandas and np done\")\n",
        "\n",
        "#@title Choose the file you want to upload (Without the ' '): \n",
        "file_name = \"NetflixViewingHistory.csv\" #@param {type: \"string\"}\n",
        "\n",
        "netflix_file = pd.read_csv(file_name)\n",
        "\n",
        "print(\"File of your choice was imported!\")\n",
        "\n",
        "def extract_titles(netflix_data):\n",
        "    \n",
        "    # Add Episode_title column for extracted episode titles\n",
        "\n",
        "    episode_title = str()\n",
        "\n",
        "    netflix_data[\"episode_title\"] = episode_title\n",
        "\n",
        "    for i in range(len(netflix_data)):\n",
        "    \n",
        "        sequence = netflix_data.iloc[i,0]\n",
        "    \n",
        "        if sequence.count(\":\") == 2:\n",
        "        \n",
        "            series_title = sequence[0:sequence.index(\":\")]\n",
        "        \n",
        "            netflix_data.iloc[i,0] = series_title\n",
        "        \n",
        "            episode_title =  sequence[sequence.rfind(\":\")+2:]\n",
        "        \n",
        "            netflix_data.iloc[i,2] = episode_title\n",
        "        \n",
        "        elif sequence.count(\":\") == 3:\n",
        "        \n",
        "            first_sequence = sequence[0:sequence.index(\":\")]\n",
        "\n",
        "            second_sequence = sequence[len(first_sequence)+1:]\n",
        "\n",
        "            series_title = second_sequence[1:second_sequence.index(\":\")]\n",
        "        \n",
        "            netflix_data.iloc[i,0] = series_title\n",
        "        \n",
        "            episode_title =  sequence[sequence.rfind(\":\")+2:]\n",
        "        \n",
        "            netflix_data.iloc[i,2] = episode_title\n",
        "        \n",
        "        else:\n",
        "        \n",
        "            netflix_data.iloc[i,2] = \"-\" \n",
        "                \n",
        "    return netflix_data"
      ],
      "execution_count": 21,
      "outputs": [
        {
          "output_type": "stream",
          "name": "stdout",
          "text": [
            "Import of pandas and np done\n"
          ]
        }
      ]
    },
    {
      "cell_type": "markdown",
      "metadata": {
        "id": "VMai8B_6Osaq"
      },
      "source": [
        "Now save the titles of your movies and series in a file called data and rearrage the column names:"
      ]
    },
    {
      "cell_type": "code",
      "metadata": {
        "colab": {
          "base_uri": "https://localhost:8080/",
          "height": 204
        },
        "id": "wkh1Y3C_KdfN",
        "outputId": "bfc3a7fd-7cee-42b4-e62e-d1f87da1ad0b"
      },
      "source": [
        "data = extract_titles(netflix_file)  \n",
        "\n",
        "data = data[['Title','episode_title', 'Date']]"
      ],
      "execution_count": 87,
      "outputs": [
        {
          "output_type": "execute_result",
          "data": {
            "text/html": [
              "<div>\n",
              "<style scoped>\n",
              "    .dataframe tbody tr th:only-of-type {\n",
              "        vertical-align: middle;\n",
              "    }\n",
              "\n",
              "    .dataframe tbody tr th {\n",
              "        vertical-align: top;\n",
              "    }\n",
              "\n",
              "    .dataframe thead th {\n",
              "        text-align: right;\n",
              "    }\n",
              "</style>\n",
              "<table border=\"1\" class=\"dataframe\">\n",
              "  <thead>\n",
              "    <tr style=\"text-align: right;\">\n",
              "      <th></th>\n",
              "      <th>Title</th>\n",
              "      <th>episode_title</th>\n",
              "      <th>Date</th>\n",
              "    </tr>\n",
              "  </thead>\n",
              "  <tbody>\n",
              "    <tr>\n",
              "      <th>0</th>\n",
              "      <td>The Two Popes</td>\n",
              "      <td>-</td>\n",
              "      <td>28/08/2021</td>\n",
              "    </tr>\n",
              "    <tr>\n",
              "      <th>1</th>\n",
              "      <td>Creed</td>\n",
              "      <td>-</td>\n",
              "      <td>10/08/2021</td>\n",
              "    </tr>\n",
              "    <tr>\n",
              "      <th>2</th>\n",
              "      <td>Once Upon a Time in Hollywood</td>\n",
              "      <td>-</td>\n",
              "      <td>18/07/2021</td>\n",
              "    </tr>\n",
              "    <tr>\n",
              "      <th>3</th>\n",
              "      <td>How to Become a Tyrant</td>\n",
              "      <td>-</td>\n",
              "      <td>16/07/2021</td>\n",
              "    </tr>\n",
              "    <tr>\n",
              "      <th>4</th>\n",
              "      <td>Minority Report</td>\n",
              "      <td>-</td>\n",
              "      <td>06/07/2021</td>\n",
              "    </tr>\n",
              "  </tbody>\n",
              "</table>\n",
              "</div>"
            ],
            "text/plain": [
              "                           Title episode_title        Date\n",
              "0                  The Two Popes             -  28/08/2021\n",
              "1                          Creed             -  10/08/2021\n",
              "2  Once Upon a Time in Hollywood             -  18/07/2021\n",
              "3         How to Become a Tyrant             -  16/07/2021\n",
              "4                Minority Report             -  06/07/2021"
            ]
          },
          "metadata": {},
          "execution_count": 87
        }
      ]
    },
    {
      "cell_type": "markdown",
      "metadata": {
        "id": "nsgLTOmEO6BJ"
      },
      "source": [
        "This is what your file looks like now:"
      ]
    },
    {
      "cell_type": "code",
      "metadata": {
        "colab": {
          "base_uri": "https://localhost:8080/"
        },
        "id": "5WkPnLLYOYyI",
        "outputId": "41df60d3-e7a8-429c-fc1c-94c28f287dd5"
      },
      "source": [
        "print(data.head())"
      ],
      "execution_count": 39,
      "outputs": [
        {
          "output_type": "stream",
          "name": "stdout",
          "text": [
            "                           Title episode_title        Date\n",
            "0                  The Two Popes             -  28/08/2021\n",
            "1                          Creed             -  10/08/2021\n",
            "2  Once Upon a Time in Hollywood             -  18/07/2021\n",
            "3         How to Become a Tyrant   Seize Power  16/07/2021\n",
            "4                Minority Report             -  06/07/2021\n"
          ]
        }
      ]
    },
    {
      "cell_type": "markdown",
      "metadata": {
        "id": "QlYmngVkVmAw"
      },
      "source": [
        "Select all movies you watched in the last year:"
      ]
    },
    {
      "cell_type": "code",
      "metadata": {
        "colab": {
          "base_uri": "https://localhost:8080/"
        },
        "id": "xja9CejcVk1N",
        "outputId": "a7a970d8-1db3-49af-8fbe-674097683534"
      },
      "source": [
        "from datetime import datetime, timedelta\n",
        "\n",
        "today = datetime.today()\n",
        "\n",
        "one_year_ago = today - timedelta(days = 365)\n",
        "\n",
        "one_year_ago = one_year_ago.strftime(\"%d/%m/%Y\")\n",
        "\n",
        "# Convert the Date column to datetime\n",
        "\n",
        "data.Date = pd.to_datetime(data.Date, format=\"%d/%m/%Y\")\n",
        "\n",
        "last_year = data[data.Date >= one_year_ago] \n",
        "\n",
        "movies_last_year = last_year[last_year.episode_title == \"-\"]\n",
        "\n",
        "movies_last_year = movies_last_year[[\"Title\"]].drop_duplicates()\n",
        "\n",
        "if len(movies_last_year) > 0:\n",
        "\n",
        "    print(\"These are your last 5 movies you watched last year:\")\n",
        "\n",
        "    print(movies_last_year.head())\n",
        "\n",
        "else:\n",
        "    print(\"It seems you have watched no movies last year !\")"
      ],
      "execution_count": 105,
      "outputs": [
        {
          "output_type": "stream",
          "name": "stdout",
          "text": [
            "08/10/2020\n",
            "<class 'pandas._libs.tslibs.timestamps.Timestamp'>\n",
            "These are your last 5 movies you watched last year:\n",
            "                           Title\n",
            "0                  The Two Popes\n",
            "1                          Creed\n",
            "2  Once Upon a Time in Hollywood\n",
            "3         How to Become a Tyrant\n",
            "4                Minority Report\n"
          ]
        }
      ]
    },
    {
      "cell_type": "code",
      "metadata": {
        "colab": {
          "base_uri": "https://localhost:8080/",
          "height": 37
        },
        "id": "h541okE5g4kG",
        "outputId": "704db8ef-fcdc-4cd1-d8fa-5fa192f2657e"
      },
      "source": [
        "movies_list = movies_last_year[\"Title\"].to_list()\n",
        "\n",
        "movies_list[0]"
      ],
      "execution_count": 114,
      "outputs": [
        {
          "output_type": "execute_result",
          "data": {
            "application/vnd.google.colaboratory.intrinsic+json": {
              "type": "string"
            },
            "text/plain": [
              "'The Two Popes'"
            ]
          },
          "metadata": {},
          "execution_count": 114
        }
      ]
    },
    {
      "cell_type": "code",
      "metadata": {
        "colab": {
          "base_uri": "https://localhost:8080/",
          "height": 49,
          "referenced_widgets": [
            "c4fca7966c9b4e2eb2ac18c0f3103b4f",
            "ddeee2ae884741d589a7bb05672306ba",
            "8ef23b9d2a6b44d4877313b82d1372f3"
          ]
        },
        "id": "G_YDmtekWUeo",
        "outputId": "8964b6c8-af27-4905-a95a-9cdbaa159f2f"
      },
      "source": [
        "#@title Choose you favourite movie from the menu:\n",
        "\n",
        "import ipywidgets as widgets\n",
        "\n",
        "movie_choice = widgets.Dropdown(options = movies_list, value = movies_list[0])\n",
        "\n",
        "movie_choice"
      ],
      "execution_count": 124,
      "outputs": [
        {
          "output_type": "display_data",
          "data": {
            "application/vnd.jupyter.widget-view+json": {
              "model_id": "c4fca7966c9b4e2eb2ac18c0f3103b4f",
              "version_minor": 0,
              "version_major": 2
            },
            "text/plain": [
              "Dropdown(options=('The Two Popes', 'Creed', 'Once Upon a Time in Hollywood', 'How to Become a Tyrant', 'Minori…"
            ]
          },
          "metadata": {}
        }
      ]
    },
    {
      "cell_type": "code",
      "metadata": {
        "colab": {
          "base_uri": "https://localhost:8080/"
        },
        "id": "FxhHtJOtkZx5",
        "outputId": "330a31ec-05e7-458f-8418-3cf14f23a1cf"
      },
      "source": [
        "#@title You chose:\n",
        "\n",
        "print(movie_choice.value)"
      ],
      "execution_count": 127,
      "outputs": [
        {
          "output_type": "stream",
          "name": "stdout",
          "text": [
            "Fauda\n"
          ]
        }
      ]
    }
  ]
}